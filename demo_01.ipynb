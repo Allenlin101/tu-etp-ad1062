{
 "cells": [
  {
   "cell_type": "markdown",
   "metadata": {},
   "source": [
    "# Demo of Ch1. Introduction\n",
    "----\n",
    "This is the sample code of TU-ETP-AD1062 Machine Learning Fundamentals.\n",
    "\n",
    "For more information, please refer to:\n",
    "https://sites.google.com/view/tu-ad1062-mlfundamentals/"
   ]
  },
  {
   "cell_type": "markdown",
   "metadata": {},
   "source": [
    "## Import Packages\n",
    "\n",
    "- Numpy: Provide Linear Algebra related computation ability\n",
    "- Scikit-Learn: Provide data mining and data analysis ability\n",
    "- Matplotlib: Provide the abilty to plot figures"
   ]
  },
  {
   "cell_type": "code",
   "execution_count": null,
   "metadata": {},
   "outputs": [],
   "source": [
    "import numpy as np\n",
    "import sklearn.datasets\n",
    "import sklearn.model_selection\n",
    "import sklearn.metrics\n",
    "import sklearn.svm\n",
    "import matplotlib.pyplot as plt\n",
    "import matplotlib.image as mpimg\n",
    "\n",
    "%matplotlib inline"
   ]
  },
  {
   "cell_type": "markdown",
   "metadata": {},
   "source": [
    "## Load MNIST Dataset\n",
    "- Use `mnist.data.shape` to dump the shape of the MNIST dataset\n",
    "- Use `numpy.unique` to dump all of possible lables for MNIST dataset"
   ]
  },
  {
   "cell_type": "code",
   "execution_count": null,
   "metadata": {},
   "outputs": [],
   "source": [
    "mnist = sklearn.datasets.fetch_mldata('MNIST original')\n",
    "\n",
    "print(mnist.data.shape)\n",
    "print(np.unique(mnist.target))"
   ]
  },
  {
   "cell_type": "markdown",
   "metadata": {},
   "source": [
    "## Load IRIS Dataset\n",
    "\n",
    "- Use `iris.data.shape` to dump the shape of the IRIS dataset\n",
    "- Use `numpy.unique` to dump all of possible lables for IRIS dataset"
   ]
  },
  {
   "cell_type": "code",
   "execution_count": null,
   "metadata": {},
   "outputs": [],
   "source": [
    "iris = sklearn.datasets.load_iris()\n",
    "\n",
    "print(iris.data.shape)\n",
    "print(np.unique(iris.target))"
   ]
  },
  {
   "cell_type": "markdown",
   "metadata": {},
   "source": [
    "## Demo 1. Vectorized form of the first 10 images in MNIST\n",
    "----\n",
    "- Print the first 10 images vector in MNIST in its original form\n",
    "- Then converted back to visible image form"
   ]
  },
  {
   "cell_type": "code",
   "execution_count": null,
   "metadata": {},
   "outputs": [],
   "source": [
    "print(\"The 0-th image in vector form:\")\n",
    "plt.figure(figsize=(16, 16))\n",
    "for i in range(0,10):\n",
    "    plt.subplot(1, 10, i+1)\n",
    "    plt.imshow(mnist.data[i,:].reshape((28,28)), cmap='gray')\n",
    "    \n",
    "print(mnist.data[0,:])\n",
    "plt.figure(figsize=(64, 64))\n",
    "plt.imshow(mnist.data[0,:].reshape(784, 1), cmap='gray')"
   ]
  },
  {
   "cell_type": "markdown",
   "metadata": {},
   "source": [
    "## Demo 2. Vector inner-product\n",
    "----\n",
    "This demo shows how to measure the similarity between 2 vectors.\n",
    "\n",
    "Here we use $\\mathbf{w}$, which is a \"0\"-image as a pseudo-basis vector, and we select following 3 images as pseudo-unknown data:\n",
    "- `mnist.data[0, :]`, a \"0\"-image\" as a vector $\\mathbf{x}_0$\n",
    "- `mnist.data[10000, :]`, a \"1\"-image\" as a vector $\\mathbf{x}_1$\n",
    "- `mnist.data[15000, :]`, a \"2\"-image\" as a vector $\\mathbf{x}_2$\n",
    "\n",
    "The computation steps:\n",
    "- Normalize each vector from the range `[0-255]` to the range `[0-1]` first by divded the vector with its own maximum value\n",
    "- Compute the following inner-products value by `numpy.inner()`:\n",
    "    - $\\mathbf{w}^T\\mathbf{x}_0$\n",
    "    - $\\mathbf{w}^T\\mathbf{x}_1$\n",
    "    - $\\mathbf{w}^T\\mathbf{x}_2$"
   ]
  },
  {
   "cell_type": "code",
   "execution_count": null,
   "metadata": {},
   "outputs": [],
   "source": [
    "# Bases vector, actually a \"0\"-image in MNIST\n",
    "w = mnist.data[0,:]\n",
    "\n",
    "# Input vector, actually a \"0\", \"1\", \"2\" image in MNIST\n",
    "x0 = mnist.data[0,:]\n",
    "x1 = mnist.data[10000,:]\n",
    "x2 = mnist.data[15000,:]\n",
    "\n",
    "plt.figure(figsize=(16, 16))\n",
    "\n",
    "plt.subplot(1, 3, 1)\n",
    "plt.imshow(x0.reshape((28,28)), cmap='gray')\n",
    "\n",
    "plt.subplot(1, 3, 2)\n",
    "plt.imshow(x1.reshape((28,28)), cmap='gray')\n",
    "\n",
    "plt.subplot(1, 3, 3)\n",
    "plt.imshow(x2.reshape((28,28)), cmap='gray')"
   ]
  },
  {
   "cell_type": "code",
   "execution_count": null,
   "metadata": {},
   "outputs": [],
   "source": [
    "# Normalize\n",
    "w = w/max(w)\n",
    "x0 = x0/max(x0)\n",
    "x1 = x1/max(x1)\n",
    "x2 = x2/max(x2)\n",
    "\n",
    "# Compute the inner products\n",
    "wtx0 = np.inner(w, x0)\n",
    "print (wtx0)\n",
    "\n",
    "wtx1 = np.inner(w, x1)\n",
    "print (wtx1)\n",
    "\n",
    "wtx2 = np.inner(w, x2)\n",
    "print (wtx2)"
   ]
  },
  {
   "cell_type": "markdown",
   "metadata": {},
   "source": [
    "## Demo 3. Matrix-Vector Multiplication\n",
    "\n",
    "- Select 10 images (0-9) from MNIST dataset, form the pseudo-bases matrix: $\\mathbf{W} \\in \\mathbb{R}^{784\\times10}$\n",
    "- Select 1 image (0) from MNIST dataset, form the pseudo-unknown input vector: $\\mathbf{x} \\in \\mathbb{R}^{784\\times1}$\n",
    "- Compute $\\mathbf{y} = \\mathbf{W}^T\\mathbf{x} \\in \\mathbb{R}^{10\\times1}$ to get the similarity between $\\mathbf{x}$ and 10 bases vector in $\\mathbf{W}$"
   ]
  },
  {
   "cell_type": "code",
   "execution_count": null,
   "metadata": {},
   "outputs": [],
   "source": [
    "idx = [0, 10000, 15000, 20000, 27000, 36000, 41000, 46000, 52000, 69999]\n",
    "\n",
    "# Show images 0-9\n",
    "plt.figure(figsize=(16, 16))\n",
    "for i in range(0, 10):\n",
    "    plt.subplot(1, 10, i+1)\n",
    "    plt.imshow(mnist.data[idx[i], :].reshape((28,28)), cmap='gray')\n",
    "\n",
    "# Compose x\n",
    "x = mnist.data[1,:]\n",
    "    \n",
    "# Compose W\n",
    "W = np.zeros((28*28, 10))\n",
    "for i in range(0,10):\n",
    "    W[:, i] = mnist.data[idx[i], :]\n",
    "    \n",
    "# Compute W^T * x\n",
    "print(W.transpose().dot(x))"
   ]
  },
  {
   "cell_type": "markdown",
   "metadata": {},
   "source": [
    "## Demo 4. Matrix-Vector Multiplication\n",
    "----\n",
    "The demo here shows how to:\n",
    "1. Decomposes the original 70000 images into **only** 20 bases vectors $W$ (here we use NMF, since images contains no negative value),\n",
    "2. Then approximates the original image `mnist[0, :]` by bases $W$ and the coefficient vector `h0`\n",
    "\n",
    "We can say that each element in `h0` denotes the *composition-ratio* of each bases vector `W`\n"
   ]
  },
  {
   "cell_type": "code",
   "execution_count": null,
   "metadata": {
    "collapsed": true
   },
   "outputs": [],
   "source": [
    "from sklearn.decomposition import NMF\n",
    "\n",
    "model = NMF(n_components=20, init='random', random_state=0)\n",
    "W_ = model.fit_transform(mnist.data.transpose())"
   ]
  },
  {
   "cell_type": "code",
   "execution_count": null,
   "metadata": {},
   "outputs": [],
   "source": [
    "print (W_.shape)\n",
    "plt.figure(figsize=(16, 4))\n",
    "for i in range(0, 20):\n",
    "    plt.subplot(2, 10, i+1)\n",
    "    plt.imshow(W_[:, i].reshape((28,28)), cmap='gray')\n",
    "    plt.title(\"w%d\" % (i + 1))"
   ]
  },
  {
   "cell_type": "code",
   "execution_count": null,
   "metadata": {},
   "outputs": [],
   "source": [
    "# Select the coefficient vector of 0-th image\n",
    "H_ = model.components_\n",
    "h0 = H_[:, 0]\n",
    "\n",
    "print(\"Composition ratio of each bases W:\")\n",
    "print( h0 )\n",
    "\n",
    "plt.figure(figsize=(16, 4))\n",
    "plt.subplot(1, 2, 1)\n",
    "plt.imshow(W_.dot( h0 ).reshape((28, 28)), cmap='gray')\n",
    "plt.title(\"Reconstructed Image by Matrix-Vector multiplication\")\n",
    "\n",
    "plt.subplot(1, 2, 2)\n",
    "plt.imshow(mnist.data[0, :].reshape((28, 28)), cmap='gray')\n",
    "plt.title(\"Original image\")"
   ]
  },
  {
   "cell_type": "markdown",
   "metadata": {
    "collapsed": true
   },
   "source": [
    "## Demo 5. Training Set, Validation Set, and Testing Set Separation\n",
    "----\n",
    "The demo here shows how to divide the collected labled-data into training set and testing set.\n",
    "- `sklearn.model_selection.train_test_split` separate data into 30 testing data and 120 training data\n",
    "- `sklearn.model_selection.cross_val_score` conduct the 5-fold cross-validation with linear SVM\n"
   ]
  },
  {
   "cell_type": "code",
   "execution_count": null,
   "metadata": {},
   "outputs": [],
   "source": [
    "X_train, X_test, y_train, y_test = sklearn.model_selection.train_test_split(\n",
    "    iris.data,      # All Feature vectors (150)\n",
    "    iris.target,    # All Label (150)\n",
    "    test_size=0.2,  # Ratio of testing data\n",
    "    random_state=0  # Random separated or not\n",
    ")\n",
    "\n",
    "print(\"# Training data: %d\" % len(y_train))\n",
    "print(\"# Testing data: %d\" % len(y_test))\n",
    "\n",
    "plt.figure(2, figsize=(8, 6))\n",
    "plt.scatter(X_train[:, 0], X_train[:, 1], c=y_train, cmap=plt.cm.Set1)\n",
    "plt.xlabel('Sepal length')\n",
    "plt.ylabel('Sepal width')\n",
    "plt.show()\n",
    "\n",
    "clf = sklearn.svm.SVC(kernel='linear', C=1)\n",
    "\n",
    "clf.fit(X_train, y_train)\n",
    "y_predict = clf.predict(X_test)\n",
    "scores = sklearn.metrics.zero_one_loss(y_test, y_predict)\n",
    "print(\"Result of train_test_split:\")\n",
    "print(\"  Original label of X_test: %s\" % y_test)\n",
    "print(\"  Predicted label of X_test: %s\" % y_predict)\n",
    "print(\"  0-1 loss: %s\" % scores)\n",
    "print(\"\")\n",
    "\n",
    "\n",
    "scores = sklearn.model_selection.cross_val_score(clf, iris.data, iris.target, cv=5)\n",
    "print(\"Result of 5-fold cross validation:\")\n",
    "print(\"  %s\" % scores)"
   ]
  }
 ],
 "metadata": {
  "kernelspec": {
   "display_name": "Python 3",
   "language": "python",
   "name": "python3"
  },
  "language_info": {
   "codemirror_mode": {
    "name": "ipython",
    "version": 3
   },
   "file_extension": ".py",
   "mimetype": "text/x-python",
   "name": "python",
   "nbconvert_exporter": "python",
   "pygments_lexer": "ipython3",
   "version": "3.6.2"
  }
 },
 "nbformat": 4,
 "nbformat_minor": 2
}
